{
 "cells": [
  {
   "cell_type": "code",
   "execution_count": 1,
   "metadata": {},
   "outputs": [],
   "source": [
    "import numpy as np\n",
    "import sklearn as sk\n",
    "import pandas as pd\n",
    "import matplotlib.pyplot as plt\n",
    "from sklearn.metrics import confusion_matrix\n",
    "from sklearn.preprocessing import scale\n",
    "import random\n",
    "import seaborn as sns"
   ]
  },
  {
   "cell_type": "code",
   "execution_count": 2,
   "metadata": {},
   "outputs": [
    {
     "data": {
      "text/html": [
       "<div>\n",
       "<style scoped>\n",
       "    .dataframe tbody tr th:only-of-type {\n",
       "        vertical-align: middle;\n",
       "    }\n",
       "\n",
       "    .dataframe tbody tr th {\n",
       "        vertical-align: top;\n",
       "    }\n",
       "\n",
       "    .dataframe thead th {\n",
       "        text-align: right;\n",
       "    }\n",
       "</style>\n",
       "<table border=\"1\" class=\"dataframe\">\n",
       "  <thead>\n",
       "    <tr style=\"text-align: right;\">\n",
       "      <th></th>\n",
       "      <th>Time</th>\n",
       "      <th>V1</th>\n",
       "      <th>V2</th>\n",
       "      <th>V3</th>\n",
       "      <th>V4</th>\n",
       "      <th>V5</th>\n",
       "      <th>V6</th>\n",
       "      <th>V7</th>\n",
       "      <th>V8</th>\n",
       "      <th>V9</th>\n",
       "      <th>...</th>\n",
       "      <th>V21</th>\n",
       "      <th>V22</th>\n",
       "      <th>V23</th>\n",
       "      <th>V24</th>\n",
       "      <th>V25</th>\n",
       "      <th>V26</th>\n",
       "      <th>V27</th>\n",
       "      <th>V28</th>\n",
       "      <th>Amount</th>\n",
       "      <th>Class</th>\n",
       "    </tr>\n",
       "  </thead>\n",
       "  <tbody>\n",
       "    <tr>\n",
       "      <th>0</th>\n",
       "      <td>87252.0</td>\n",
       "      <td>1.813614</td>\n",
       "      <td>-0.664590</td>\n",
       "      <td>-0.045094</td>\n",
       "      <td>0.472401</td>\n",
       "      <td>-0.820338</td>\n",
       "      <td>0.063000</td>\n",
       "      <td>-0.799774</td>\n",
       "      <td>0.134519</td>\n",
       "      <td>0.969951</td>\n",
       "      <td>...</td>\n",
       "      <td>0.102320</td>\n",
       "      <td>0.299626</td>\n",
       "      <td>0.196751</td>\n",
       "      <td>-0.306316</td>\n",
       "      <td>-0.527436</td>\n",
       "      <td>0.158737</td>\n",
       "      <td>-0.003999</td>\n",
       "      <td>-0.033913</td>\n",
       "      <td>75.90</td>\n",
       "      <td>0</td>\n",
       "    </tr>\n",
       "    <tr>\n",
       "      <th>1</th>\n",
       "      <td>137653.0</td>\n",
       "      <td>2.085179</td>\n",
       "      <td>0.438030</td>\n",
       "      <td>-2.362942</td>\n",
       "      <td>1.108901</td>\n",
       "      <td>1.107774</td>\n",
       "      <td>-1.144720</td>\n",
       "      <td>1.045061</td>\n",
       "      <td>-0.516641</td>\n",
       "      <td>-0.603865</td>\n",
       "      <td>...</td>\n",
       "      <td>0.338745</td>\n",
       "      <td>1.181157</td>\n",
       "      <td>-0.280667</td>\n",
       "      <td>-0.270470</td>\n",
       "      <td>0.912059</td>\n",
       "      <td>-0.196488</td>\n",
       "      <td>-0.054088</td>\n",
       "      <td>-0.091348</td>\n",
       "      <td>1.00</td>\n",
       "      <td>0</td>\n",
       "    </tr>\n",
       "    <tr>\n",
       "      <th>2</th>\n",
       "      <td>120545.0</td>\n",
       "      <td>-0.664316</td>\n",
       "      <td>-0.014859</td>\n",
       "      <td>1.381047</td>\n",
       "      <td>-0.774979</td>\n",
       "      <td>0.365375</td>\n",
       "      <td>0.659081</td>\n",
       "      <td>-0.291435</td>\n",
       "      <td>0.373304</td>\n",
       "      <td>0.442781</td>\n",
       "      <td>...</td>\n",
       "      <td>0.064569</td>\n",
       "      <td>0.096394</td>\n",
       "      <td>-0.177994</td>\n",
       "      <td>-1.383466</td>\n",
       "      <td>-0.517080</td>\n",
       "      <td>0.586890</td>\n",
       "      <td>-0.041546</td>\n",
       "      <td>0.193614</td>\n",
       "      <td>26.69</td>\n",
       "      <td>0</td>\n",
       "    </tr>\n",
       "    <tr>\n",
       "      <th>3</th>\n",
       "      <td>154807.0</td>\n",
       "      <td>2.142184</td>\n",
       "      <td>-0.303400</td>\n",
       "      <td>-1.912031</td>\n",
       "      <td>-1.387678</td>\n",
       "      <td>-0.020039</td>\n",
       "      <td>-1.881688</td>\n",
       "      <td>0.541326</td>\n",
       "      <td>-0.594932</td>\n",
       "      <td>1.413258</td>\n",
       "      <td>...</td>\n",
       "      <td>0.005645</td>\n",
       "      <td>0.360294</td>\n",
       "      <td>0.002389</td>\n",
       "      <td>0.124900</td>\n",
       "      <td>0.403720</td>\n",
       "      <td>-0.135296</td>\n",
       "      <td>-0.035990</td>\n",
       "      <td>-0.071286</td>\n",
       "      <td>6.99</td>\n",
       "      <td>0</td>\n",
       "    </tr>\n",
       "    <tr>\n",
       "      <th>4</th>\n",
       "      <td>156167.0</td>\n",
       "      <td>2.107503</td>\n",
       "      <td>-0.145859</td>\n",
       "      <td>-1.622072</td>\n",
       "      <td>-0.030522</td>\n",
       "      <td>0.617532</td>\n",
       "      <td>-0.015912</td>\n",
       "      <td>0.038360</td>\n",
       "      <td>-0.074368</td>\n",
       "      <td>0.373271</td>\n",
       "      <td>...</td>\n",
       "      <td>-0.322108</td>\n",
       "      <td>-0.815797</td>\n",
       "      <td>0.164185</td>\n",
       "      <td>-1.445247</td>\n",
       "      <td>-0.159488</td>\n",
       "      <td>0.268953</td>\n",
       "      <td>-0.073121</td>\n",
       "      <td>-0.084618</td>\n",
       "      <td>1.79</td>\n",
       "      <td>0</td>\n",
       "    </tr>\n",
       "  </tbody>\n",
       "</table>\n",
       "<p>5 rows × 31 columns</p>\n",
       "</div>"
      ],
      "text/plain": [
       "       Time        V1        V2        V3        V4        V5        V6  \\\n",
       "0   87252.0  1.813614 -0.664590 -0.045094  0.472401 -0.820338  0.063000   \n",
       "1  137653.0  2.085179  0.438030 -2.362942  1.108901  1.107774 -1.144720   \n",
       "2  120545.0 -0.664316 -0.014859  1.381047 -0.774979  0.365375  0.659081   \n",
       "3  154807.0  2.142184 -0.303400 -1.912031 -1.387678 -0.020039 -1.881688   \n",
       "4  156167.0  2.107503 -0.145859 -1.622072 -0.030522  0.617532 -0.015912   \n",
       "\n",
       "         V7        V8        V9  ...       V21       V22       V23       V24  \\\n",
       "0 -0.799774  0.134519  0.969951  ...  0.102320  0.299626  0.196751 -0.306316   \n",
       "1  1.045061 -0.516641 -0.603865  ...  0.338745  1.181157 -0.280667 -0.270470   \n",
       "2 -0.291435  0.373304  0.442781  ...  0.064569  0.096394 -0.177994 -1.383466   \n",
       "3  0.541326 -0.594932  1.413258  ...  0.005645  0.360294  0.002389  0.124900   \n",
       "4  0.038360 -0.074368  0.373271  ... -0.322108 -0.815797  0.164185 -1.445247   \n",
       "\n",
       "        V25       V26       V27       V28  Amount  Class  \n",
       "0 -0.527436  0.158737 -0.003999 -0.033913   75.90      0  \n",
       "1  0.912059 -0.196488 -0.054088 -0.091348    1.00      0  \n",
       "2 -0.517080  0.586890 -0.041546  0.193614   26.69      0  \n",
       "3  0.403720 -0.135296 -0.035990 -0.071286    6.99      0  \n",
       "4 -0.159488  0.268953 -0.073121 -0.084618    1.79      0  \n",
       "\n",
       "[5 rows x 31 columns]"
      ]
     },
     "execution_count": 2,
     "metadata": {},
     "output_type": "execute_result"
    }
   ],
   "source": [
    "df = pd.read_csv('creditcard.csv', low_memory=False)\n",
    "# for shuffling Dataframe rows\n",
    "df = df.sample(frac=1).reset_index(drop=True)\n",
    "df.head()"
   ]
  },
  {
   "cell_type": "code",
   "execution_count": 3,
   "metadata": {},
   "outputs": [
    {
     "name": "stdout",
     "output_type": "stream",
     "text": [
      "We have 492 fraud data points and 284315 nonfraudulent data points.\n"
     ]
    }
   ],
   "source": [
    "frauds = df.loc[df['Class'] == 1]\n",
    "non_frauds = df.loc[df['Class'] == 0]\n",
    "print(\"We have\", len(frauds), \"fraud data points and\", len(non_frauds), \"nonfraudulent data points.\")"
   ]
  },
  {
   "cell_type": "code",
   "execution_count": 4,
   "metadata": {},
   "outputs": [
    {
     "data": {
      "image/png": "[encoded data removed]",
      "text/plain": [
       "<Figure size 640x480 with 1 Axes>"
      ]
     },
     "metadata": {},
     "output_type": "display_data"
    }
   ],
   "source": [
    "# Scatter plot of both classes\n",
    "ax = frauds.plot.scatter(x='Amount', y='Class', color='Orange', label='Fraud')\n",
    "non_frauds.plot.scatter(x='Amount', y='Class', color='Blue', label='Normal', ax=ax)\n",
    "plt.show()"
   ]
  },
  {
   "cell_type": "code",
   "execution_count": 5,
   "metadata": {},
   "outputs": [
    {
     "data": {
      "text/plain": [
       "(284807, 31)"
      ]
     },
     "execution_count": 5,
     "metadata": {},
     "output_type": "execute_result"
    }
   ],
   "source": [
    "df.shape"
   ]
  },
  {
   "cell_type": "code",
   "execution_count": 6,
   "metadata": {},
   "outputs": [
    {
     "data": {
      "text/plain": [
       "2"
      ]
     },
     "execution_count": 6,
     "metadata": {},
     "output_type": "execute_result"
    }
   ],
   "source": [
    "df.ndim"
   ]
  },
  {
   "cell_type": "code",
   "execution_count": 7,
   "metadata": {},
   "outputs": [
    {
     "data": {
      "image/png": "[encoded data removed]",
      "text/plain": [
       "<Figure size 640x480 with 1 Axes>"
      ]
     },
     "metadata": {},
     "output_type": "display_data"
    }
   ],
   "source": [
    "bx = frauds.plot.scatter(x='Amount', y='Class', color='Orange', label='Fraud')\n",
    "plt.show()"
   ]
  },
  {
   "cell_type": "code",
   "execution_count": 8,
   "metadata": {},
   "outputs": [],
   "source": [
    "def plot_confusion_matrix(y_test, pred):\n",
    "    \n",
    "    y_test_legit = y_test.value_counts()[0]\n",
    "    y_test_fraud = y_test.value_counts()[1]\n",
    "    \n",
    "    cfn_matrix = confusion_matrix(y_test, pred)\n",
    "    cfn_norm_matrix = np.array([[1.0 / y_test_legit,1.0/y_test_legit],[1.0/y_test_fraud,1.0/y_test_fraud]])\n",
    "    norm_cfn_matrix = cfn_matrix * cfn_norm_matrix\n",
    "\n",
    "    fig = plt.figure(figsize=(12,5))\n",
    "    ax = fig.add_subplot(1,2,1)\n",
    "    sns.heatmap(cfn_matrix,cmap='coolwarm_r',linewidths=0.5,annot=True,ax=ax)\n",
    "    plt.title('Confusion Matrix')\n",
    "    plt.ylabel('Real Classes')\n",
    "    plt.xlabel('Predicted Classes')\n",
    "\n",
    "    ax = fig.add_subplot(1,2,2)\n",
    "    sns.heatmap(norm_cfn_matrix,cmap='coolwarm_r',linewidths=0.5,annot=True,ax=ax)\n",
    "\n",
    "    plt.title('Normalized Confusion Matrix')\n",
    "    plt.ylabel('Real Classes')\n",
    "    plt.xlabel('Predicted Classes')\n",
    "    plt.show()\n",
    "    \n",
    "    print('---Classification Report---')\n",
    "    print(classification_report(y_test,pred))"
   ]
  },
  {
   "cell_type": "code",
   "execution_count": 9,
   "metadata": {},
   "outputs": [
    {
     "name": "stdout",
     "output_type": "stream",
     "text": [
      "X and y sizes, respectively: 284807 284807\n",
      "Train and test sizes, respectively: 185124 185124 | 99683 99683\n",
      "Total number of frauds: 492 0.001727485630620034\n",
      "Number of frauds on y_test: 180 0.0018057241455413662\n",
      "Number of frauds on y_train: 312 0.0016853568419005639\n"
     ]
    }
   ],
   "source": [
    "from sklearn.linear_model import LogisticRegression\n",
    "from sklearn import metrics\n",
    "from sklearn.preprocessing import PolynomialFeatures\n",
    "from sklearn.model_selection import train_test_split\n",
    "from sklearn.metrics import confusion_matrix, classification_report\n",
    "\n",
    "\n",
    "X = df.iloc[:,:-1]\n",
    "y = df['Class']\n",
    "\n",
    "print(\"X and y sizes, respectively:\", len(X), len(y))\n",
    "\n",
    "X_train, X_test, y_train, y_test = train_test_split(X, y, test_size=0.35)\n",
    "print(\"Train and test sizes, respectively:\", len(X_train), len(y_train), \"|\", len(X_test), len(y_test))\n",
    "print(\"Total number of frauds:\", len(y.loc[df['Class'] == 1]), len(y.loc[df['Class'] == 1])/len(y))\n",
    "print(\"Number of frauds on y_test:\", len(y_test.loc[df['Class'] == 1]), len(y_test.loc[df['Class'] == 1]) / len(y_test))\n",
    "print(\"Number of frauds on y_train:\", len(y_train.loc[df['Class'] == 1]), len(y_train.loc[df['Class'] == 1])/len(y_train))\n",
    "\n",
    "\n"
   ]
  },
  {
   "cell_type": "markdown",
   "metadata": {},
   "source": [
    "### DBSCAN"
   ]
  },
  {
   "cell_type": "code",
   "execution_count": null,
   "metadata": {},
   "outputs": [
    {
     "name": "stderr",
     "output_type": "stream",
     "text": [
      "C:\\Users\\parir\\anaconda3\\Lib\\site-packages\\joblib\\externals\\loky\\backend\\context.py:136: UserWarning: Could not find the number of physical cores for the following reason:\n",
      "[WinError 2] The system cannot find the file specified\n",
      "Returning the number of logical cores instead. You can silence this warning by setting LOKY_MAX_CPU_COUNT to the number of cores you want to use.\n",
      "  warnings.warn(\n",
      "  File \"C:\\Users\\parir\\anaconda3\\Lib\\site-packages\\joblib\\externals\\loky\\backend\\context.py\", line 257, in _count_physical_cores\n",
      "    cpu_info = subprocess.run(\n",
      "               ^^^^^^^^^^^^^^^\n",
      "  File \"C:\\Users\\parir\\anaconda3\\Lib\\subprocess.py\", line 548, in run\n",
      "    with Popen(*popenargs, **kwargs) as process:\n",
      "         ^^^^^^^^^^^^^^^^^^^^^^^^^^^\n",
      "  File \"C:\\Users\\parir\\anaconda3\\Lib\\subprocess.py\", line 1026, in __init__\n",
      "    self._execute_child(args, executable, preexec_fn, close_fds,\n",
      "  File \"C:\\Users\\parir\\anaconda3\\Lib\\subprocess.py\", line 1538, in _execute_child\n",
      "    hp, ht, pid, tid = _winapi.CreateProcess(executable, args,\n",
      "                       ^^^^^^^^^^^^^^^^^^^^^^^^^^^^^^^^^^^^^^^\n"
     ]
    }
   ],
   "source": [
    "from sklearn.cluster import DBSCAN\n",
    "from sklearn.preprocessing import StandardScaler\n",
    "from sklearn.metrics import classification_report\n",
    "import joblib\n",
    "import numpy as np\n",
    "\n",
    "# Feature selection\n",
    "X = df.drop(['Class'], axis=1)\n",
    "y = df['Class']\n",
    "\n",
    "# Standardize features\n",
    "scaler_dbscan = StandardScaler()\n",
    "X_scaled = scaler_dbscan.fit_transform(X)\n",
    "\n",
    "# DBSCAN model\n",
    "dbscan = DBSCAN(eps=1.5, min_samples=5)\n",
    "dbscan_labels = dbscan.fit_predict(X_scaled)\n",
    "\n",
    "# Assign predicted labels (-1 as anomaly/fraud, 1 as legit)\n",
    "predicted = np.where(dbscan_labels == -1, 1, 0)\n",
    "\n",
    "# Evaluation\n",
    "print(\"DBSCAN Classification Report (Label -1 as Fraud):\")\n",
    "print(classification_report(y, predicted))\n",
    "\n",
    "# Save model and scaler\n",
    "joblib.dump(dbscan, \"dbscan_model.pkl\")\n",
    "joblib.dump(scaler_dbscan, \"scaler_dbscan.pkl\")\n"
   ]
  },
  {
   "cell_type": "code",
   "execution_count": null,
   "metadata": {},
   "outputs": [],
   "source": [
    "\n",
    "from tensorflow.keras.models import Sequential\n",
    "from tensorflow.keras.layers import Dense\n",
    "from tensorflow.keras.optimizers import Adam\n",
    "from sklearn.metrics import classification_report\n"
   ]
  },
  {
   "cell_type": "code",
   "execution_count": null,
   "metadata": {},
   "outputs": [],
   "source": [
    "\n",
    "# Build and train a simple deep learning model\n",
    "model_dl = Sequential([\n",
    "    Dense(32, input_shape=(X_train.shape[1],), activation='relu'),\n",
    "    Dense(16, activation='relu'),\n",
    "    Dense(1, activation='sigmoid')\n",
    "])\n",
    "\n",
    "model_dl.compile(optimizer=Adam(learning_rate=0.001), loss='binary_crossentropy', metrics=['accuracy'])\n",
    "model_dl.fit(X_train, y_train, epochs=10, batch_size=2048, validation_split=0.2)\n"
   ]
  },
  {
   "cell_type": "code",
   "execution_count": null,
   "metadata": {},
   "outputs": [],
   "source": [
    "\n",
    "# Evaluate on test set\n",
    "dl_preds = (model_dl.predict(X_test) > 0.5).astype(\"int32\")\n",
    "print(\"Deep Learning Model Evaluation:\")\n",
    "print(classification_report(y_test, dl_preds))\n"
   ]
  },
  {
   "cell_type": "code",
   "execution_count": null,
   "metadata": {},
   "outputs": [],
   "source": [
    "from sklearn.preprocessing import StandardScaler\n",
    "import joblib\n",
    "\n",
    "# Assume X_train is defined\n",
    "scaler = StandardScaler()\n",
    "X_train_scaled = scaler.fit_transform(X_train)\n",
    "\n",
    "# Save model using newer Keras format\n",
    "model_dl.save(\"fraud_dl_model.keras\")\n",
    "\n",
    "# Save the scaler\n",
    "joblib.dump(scaler, \"scaler.pkl\")\n"
   ]
  },
  {
   "cell_type": "code",
   "execution_count": null,
   "metadata": {},
   "outputs": [],
   "source": []
  },
  {
   "cell_type": "code",
   "execution_count": null,
   "metadata": {},
   "outputs": [],
   "source": []
  }
 ],
 "metadata": {
  "kernelspec": {
   "display_name": "Python 3 (ipykernel)",
   "language": "python",
   "name": "python3"
  },
  "language_info": {
   "codemirror_mode": {
    "name": "ipython",
    "version": 3
   },
   "file_extension": ".py",
   "mimetype": "text/x-python",
   "name": "python",
   "nbconvert_exporter": "python",
   "pygments_lexer": "ipython3",
   "version": "3.12.3"
  }
 },
 "nbformat": 4,
 "nbformat_minor": 4
}
